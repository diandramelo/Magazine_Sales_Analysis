{
 "cells": [
  {
   "cell_type": "markdown",
   "id": "4d211b94",
   "metadata": {
    "heading_collapsed": true
   },
   "source": [
    "# 0. IMPORTS"
   ]
  },
  {
   "cell_type": "markdown",
   "id": "90aa71cd",
   "metadata": {
    "heading_collapsed": true,
    "hidden": true
   },
   "source": [
    "## 0.1. Libraries"
   ]
  },
  {
   "cell_type": "code",
   "execution_count": 1,
   "id": "172dc28f",
   "metadata": {
    "ExecuteTime": {
     "end_time": "2021-07-04T11:53:55.339801Z",
     "start_time": "2021-07-04T11:53:52.617030Z"
    },
    "hidden": true
   },
   "outputs": [],
   "source": [
    "import pandas as pd\n",
    "import numpy as np\n",
    "import seaborn as sns"
   ]
  },
  {
   "cell_type": "markdown",
   "id": "7efd58e4",
   "metadata": {
    "heading_collapsed": true,
    "hidden": true
   },
   "source": [
    "## 0.2. Datasets"
   ]
  },
  {
   "cell_type": "code",
   "execution_count": 2,
   "id": "21d7dd96",
   "metadata": {
    "ExecuteTime": {
     "end_time": "2021-07-04T11:53:56.276242Z",
     "start_time": "2021-07-04T11:53:55.342134Z"
    },
    "hidden": true
   },
   "outputs": [],
   "source": [
    "df = pd.read_csv('data/dataframe_for_analysis.csv')"
   ]
  },
  {
   "cell_type": "code",
   "execution_count": 4,
   "id": "79308482",
   "metadata": {
    "ExecuteTime": {
     "end_time": "2021-07-04T11:53:57.984448Z",
     "start_time": "2021-07-04T11:53:57.974205Z"
    },
    "hidden": true,
    "hide_input": false,
    "scrolled": true
   },
   "outputs": [
    {
     "name": "stdout",
     "output_type": "stream",
     "text": [
      "Number of rows: 336816\n",
      "Number of columns: 13\n"
     ]
    }
   ],
   "source": [
    "print('Number of rows: {}'.format(df.shape[0]))\n",
    "print('Number of columns: {}'.format(df.shape[1]))"
   ]
  },
  {
   "cell_type": "code",
   "execution_count": 10,
   "id": "153ba9d3",
   "metadata": {
    "ExecuteTime": {
     "end_time": "2021-07-04T11:57:06.489976Z",
     "start_time": "2021-07-04T11:57:06.344123Z"
    },
    "hidden": true
   },
   "outputs": [],
   "source": [
    "df['date'] = pd.to_datetime(df['date'])"
   ]
  },
  {
   "cell_type": "markdown",
   "id": "8b672444",
   "metadata": {
    "heading_collapsed": true,
    "hidden": true
   },
   "source": [
    "## 0.3. Graph visualization"
   ]
  },
  {
   "cell_type": "code",
   "execution_count": 5,
   "id": "870746d4",
   "metadata": {
    "ExecuteTime": {
     "end_time": "2021-07-04T11:54:00.207028Z",
     "start_time": "2021-07-04T11:54:00.099286Z"
    },
    "hidden": true
   },
   "outputs": [
    {
     "name": "stdout",
     "output_type": "stream",
     "text": [
      "Populating the interactive namespace from numpy and matplotlib\n"
     ]
    },
    {
     "data": {
      "text/html": [
       "<style>.container { width:100% !important; }</style>"
      ],
      "text/plain": [
       "<IPython.core.display.HTML object>"
      ]
     },
     "metadata": {},
     "output_type": "display_data"
    }
   ],
   "source": [
    "from IPython.core.display import HTML\n",
    "\n",
    "def jupyter_settings():\n",
    "   %matplotlib inline\n",
    "   %pylab inline\n",
    "   plt.style.use( 'bmh' )\n",
    "   plt.rcParams['figure.figsize'] = [18, 8]\n",
    "   plt.rcParams['font.size'] = 20\n",
    "   display( HTML( '<style>.container { width:100% !important; }</style>') )\n",
    "   pd.options.display.max_columns = None\n",
    "   pd.options.display.max_rows = None\n",
    "   pd.set_option( 'display.expand_frame_repr', False )\n",
    "   sns.set()\n",
    "    \n",
    "jupyter_settings()"
   ]
  },
  {
   "cell_type": "markdown",
   "id": "957a65aa",
   "metadata": {},
   "source": [
    "# 1. DATA ANALYSIS"
   ]
  },
  {
   "cell_type": "markdown",
   "id": "844858ff",
   "metadata": {
    "heading_collapsed": true
   },
   "source": [
    "## 1.1. Descriptive Statistics"
   ]
  },
  {
   "cell_type": "code",
   "execution_count": 14,
   "id": "1c4ed887",
   "metadata": {
    "ExecuteTime": {
     "end_time": "2021-07-04T12:02:10.433692Z",
     "start_time": "2021-07-04T12:02:10.393041Z"
    },
    "hidden": true
   },
   "outputs": [],
   "source": [
    "num_attributes = df[['price','birth','age']]\n",
    "cat_attributes = df.select_dtypes(exclude = ['int64', 'float64', 'datetime'])"
   ]
  },
  {
   "cell_type": "markdown",
   "id": "0e9038ca",
   "metadata": {
    "hidden": true
   },
   "source": [
    "**Numerical Attributes**"
   ]
  },
  {
   "cell_type": "code",
   "execution_count": 16,
   "id": "c5b82622",
   "metadata": {
    "ExecuteTime": {
     "end_time": "2021-07-04T12:02:13.158267Z",
     "start_time": "2021-07-04T12:02:13.051314Z"
    },
    "hidden": true,
    "hide_input": true
   },
   "outputs": [
    {
     "data": {
      "text/html": [
       "<div>\n",
       "<style scoped>\n",
       "    .dataframe tbody tr th:only-of-type {\n",
       "        vertical-align: middle;\n",
       "    }\n",
       "\n",
       "    .dataframe tbody tr th {\n",
       "        vertical-align: top;\n",
       "    }\n",
       "\n",
       "    .dataframe thead th {\n",
       "        text-align: right;\n",
       "    }\n",
       "</style>\n",
       "<table border=\"1\" class=\"dataframe\">\n",
       "  <thead>\n",
       "    <tr style=\"text-align: right;\">\n",
       "      <th></th>\n",
       "      <th>mean</th>\n",
       "      <th>median</th>\n",
       "      <th>std</th>\n",
       "      <th>min</th>\n",
       "      <th>max</th>\n",
       "      <th>range</th>\n",
       "      <th>skew</th>\n",
       "      <th>kurtosis</th>\n",
       "    </tr>\n",
       "  </thead>\n",
       "  <tbody>\n",
       "    <tr>\n",
       "      <th>price</th>\n",
       "      <td>17.21</td>\n",
       "      <td>13.9</td>\n",
       "      <td>17.85</td>\n",
       "      <td>0.62</td>\n",
       "      <td>300.0</td>\n",
       "      <td>299.38</td>\n",
       "      <td>5.48</td>\n",
       "      <td>45.44</td>\n",
       "    </tr>\n",
       "    <tr>\n",
       "      <th>birth</th>\n",
       "      <td>1977.82</td>\n",
       "      <td>1980.0</td>\n",
       "      <td>13.52</td>\n",
       "      <td>1929.00</td>\n",
       "      <td>2004.0</td>\n",
       "      <td>75.00</td>\n",
       "      <td>-0.58</td>\n",
       "      <td>0.45</td>\n",
       "    </tr>\n",
       "    <tr>\n",
       "      <th>age</th>\n",
       "      <td>42.18</td>\n",
       "      <td>40.0</td>\n",
       "      <td>13.52</td>\n",
       "      <td>16.00</td>\n",
       "      <td>91.0</td>\n",
       "      <td>75.00</td>\n",
       "      <td>0.58</td>\n",
       "      <td>0.45</td>\n",
       "    </tr>\n",
       "  </tbody>\n",
       "</table>\n",
       "</div>"
      ],
      "text/plain": [
       "          mean  median    std      min     max   range  skew  kurtosis\n",
       "price    17.21    13.9  17.85     0.62   300.0  299.38  5.48     45.44\n",
       "birth  1977.82  1980.0  13.52  1929.00  2004.0   75.00 -0.58      0.45\n",
       "age      42.18    40.0  13.52    16.00    91.0   75.00  0.58      0.45"
      ]
     },
     "execution_count": 16,
     "metadata": {},
     "output_type": "execute_result"
    }
   ],
   "source": [
    "# Central Tendency\n",
    "ct1 = pd.DataFrame(num_attributes.mean()).round(2)\n",
    "ct2 = pd.DataFrame(num_attributes.median()).round(2)\n",
    "\n",
    "# Dispersion\n",
    "d1 = pd.DataFrame(num_attributes.std()).round(2)\n",
    "d2 = pd.DataFrame(num_attributes.min()).round(2)\n",
    "d3 = pd.DataFrame(num_attributes.max()).round(2)\n",
    "d4 = pd.DataFrame(num_attributes.max() - num_attributes.min()).round(2)\n",
    "\n",
    "# Shape\n",
    "s1 = pd.DataFrame(num_attributes.skew()).round(2)\n",
    "s2 = pd.DataFrame(num_attributes.kurtosis()).round(2)\n",
    "\n",
    "# Concatenation\n",
    "df_num = pd.concat([ct1, ct2, d1, d2, d3, d4, s1, s2], axis = 1)\n",
    "df_num.columns = ['mean', 'median', 'std', 'min', 'max', 'range', 'skew', 'kurtosis']\n",
    "df_num"
   ]
  },
  {
   "cell_type": "code",
   "execution_count": 182,
   "id": "25bd7bf7",
   "metadata": {
    "ExecuteTime": {
     "end_time": "2021-06-30T08:17:01.540452Z",
     "start_time": "2021-06-30T08:16:57.615929Z"
    },
    "hidden": true,
    "hide_input": true,
    "scrolled": false
   },
   "outputs": [
    {
     "data": {
      "image/png": "[encoded data removed]",
      "text/plain": [
       "<Figure size 1296x576 with 4 Axes>"
      ]
     },
     "metadata": {},
     "output_type": "display_data"
    }
   ],
   "source": [
    "plt.subplot(2, 2, 1)\n",
    "sns.histplot(df1['price'], bins = 50, kde = True);\n",
    "plt.subplot(2, 2, 2)\n",
    "sns.boxplot(data = df1, x = 'price');\n",
    "\n",
    "plt.subplot(2, 2, 3)\n",
    "sns.histplot(df1['age'], bins = 50, kde = True);\n",
    "plt.subplot(2, 2, 4)\n",
    "sns.boxplot(data = df1, x = 'age');"
   ]
  },
  {
   "cell_type": "markdown",
   "id": "3fbdbdb1",
   "metadata": {
    "hidden": true
   },
   "source": [
    "**Categorical Attributes**"
   ]
  },
  {
   "cell_type": "code",
   "execution_count": 157,
   "id": "9a206a92",
   "metadata": {
    "ExecuteTime": {
     "end_time": "2021-06-30T07:42:30.268826Z",
     "start_time": "2021-06-30T07:42:30.161373Z"
    },
    "hidden": true,
    "hide_input": true
   },
   "outputs": [
    {
     "name": "stdout",
     "output_type": "stream",
     "text": [
      "Different products: 3,265\n",
      "Different clients: 8,600\n"
     ]
    }
   ],
   "source": [
    "print('Different products: {:,}'.format(df1['id_prod'].value_counts().shape[0]))\n",
    "print('Different clients: {:,}'.format(df1['client_id'].value_counts().shape[0]))"
   ]
  },
  {
   "cell_type": "code",
   "execution_count": 159,
   "id": "3b00fae2",
   "metadata": {
    "ExecuteTime": {
     "end_time": "2021-06-30T07:42:53.400383Z",
     "start_time": "2021-06-30T07:42:51.423014Z"
    },
    "hidden": true,
    "hide_input": true
   },
   "outputs": [
    {
     "name": "stdout",
     "output_type": "stream",
     "text": [
      "Available categories: 3\n",
      "- Category 0: 209,529\n",
      "- Category 1: 109,735\n",
      "- Category 2: 17,552\n",
      "\n",
      "Different genders: 2\n",
      "- Male: 169,241\n",
      "- Female: 167,575\n"
     ]
    }
   ],
   "source": [
    "print('Available categories: {}'.format(df1['categ'].value_counts().shape[0]))\n",
    "print('- Category 0: {:,}'.format(df1[df1['categ'] == '0'].value_counts().shape[0]))\n",
    "print('- Category 1: {:,}'.format(df1[df1['categ'] == '1'].value_counts().shape[0]))\n",
    "print('- Category 2: {:,}\\n'.format(df1[df1['categ'] == '2'].value_counts().shape[0]))\n",
    "\n",
    "print('Different genders: {}'.format(df1['sex'].value_counts().shape[0]))\n",
    "print('- Male: {:,}'.format(df1[df1['sex'] == 'm'].value_counts().shape[0]))\n",
    "print('- Female: {:,}'.format(df1[df1['sex'] == 'f'].value_counts().shape[0]))"
   ]
  },
  {
   "cell_type": "code",
   "execution_count": 33,
   "id": "45356814",
   "metadata": {
    "ExecuteTime": {
     "end_time": "2021-07-04T07:22:39.800897Z",
     "start_time": "2021-07-04T07:22:30.273908Z"
    },
    "hidden": true,
    "hide_input": true
   },
   "outputs": [
    {
     "data": {
      "text/plain": [
       "<AxesSubplot:xlabel='period_of_day', ylabel='count'>"
      ]
     },
     "execution_count": 33,
     "metadata": {},
     "output_type": "execute_result"
    },
    {
     "data": {
      "image/png": "[encoded data removed]",
      "text/plain": [
       "<Figure size 1296x576 with 3 Axes>"
      ]
     },
     "metadata": {},
     "output_type": "display_data"
    }
   ],
   "source": [
    "plt.subplot(1, 3, 1)\n",
    "sns.countplot(data = cat_attributes.sort_values(by = 'categ'), x = 'categ');\n",
    "\n",
    "plt.subplot(1, 3, 2)\n",
    "sns.countplot(data = cat_attributes.sort_values(by = 'sex'), x = 'sex');\n",
    "\n",
    "plt.subplot(1, 3, 3)\n",
    "sns.countplot(data = cat_attributes, x = 'period_of_day');"
   ]
  },
  {
   "cell_type": "markdown",
   "id": "a7a98cd3",
   "metadata": {
    "heading_collapsed": true
   },
   "source": [
    "## 1.2. Concentration Analysis"
   ]
  },
  {
   "cell_type": "code",
   "execution_count": 41,
   "id": "574743a3",
   "metadata": {
    "ExecuteTime": {
     "end_time": "2021-07-04T08:35:17.206591Z",
     "start_time": "2021-07-04T08:35:17.151228Z"
    },
    "hidden": true
   },
   "outputs": [],
   "source": [
    "df_lorenz = df[['id_prod', 'price']]\n",
    "df_lorenz = df_lorenz.drop_duplicates()"
   ]
  },
  {
   "cell_type": "code",
   "execution_count": 67,
   "id": "9e3d0e9d",
   "metadata": {
    "ExecuteTime": {
     "end_time": "2021-07-04T08:43:18.295278Z",
     "start_time": "2021-07-04T08:43:18.290668Z"
    },
    "hidden": true
   },
   "outputs": [],
   "source": [
    "X = df_lorenz['price'].values"
   ]
  },
  {
   "cell_type": "markdown",
   "id": "bfd692f8",
   "metadata": {
    "hidden": true
   },
   "source": [
    "**Lorenz Curve**"
   ]
  },
  {
   "cell_type": "code",
   "execution_count": 71,
   "id": "25a431e9",
   "metadata": {
    "ExecuteTime": {
     "end_time": "2021-07-04T08:45:05.363540Z",
     "start_time": "2021-07-04T08:45:05.161323Z"
    },
    "hidden": true
   },
   "outputs": [
    {
     "data": {
      "image/png": "[encoded data removed]",
      "text/plain": [
       "<Figure size 1296x576 with 1 Axes>"
      ]
     },
     "metadata": {},
     "output_type": "display_data"
    }
   ],
   "source": [
    "X_lorenz = X.cumsum() / X.sum()\n",
    "X_lorenz = np.insert(X_lorenz, 0, 0)\n",
    "\n",
    "plt.plot(np.linspace(0.0, 1.0, X_lorenz.size), X_lorenz);\n",
    "plt.plot([0,1], [0,1]);\n",
    "plt.show();"
   ]
  },
  {
   "cell_type": "markdown",
   "id": "59e4db00",
   "metadata": {
    "hidden": true
   },
   "source": [
    "**Gini Index**"
   ]
  },
  {
   "cell_type": "code",
   "execution_count": 76,
   "id": "4a72f4e7",
   "metadata": {
    "ExecuteTime": {
     "end_time": "2021-07-04T09:01:26.479273Z",
     "start_time": "2021-07-04T09:01:26.464342Z"
    },
    "hidden": true
   },
   "outputs": [
    {
     "data": {
      "text/plain": [
       "0.35814063233521426"
      ]
     },
     "execution_count": 76,
     "metadata": {},
     "output_type": "execute_result"
    }
   ],
   "source": [
    "sorted_list = sorted(X_lorenz)\n",
    "height, area = 0, 0\n",
    "\n",
    "for value in sorted_list:\n",
    "    height += value\n",
    "    area += height - value / 2.\n",
    "\n",
    "fair_area = height * len(X_lorenz) / 2.\n",
    "gini = (fair_area - area) / fair_area\n",
    "gini"
   ]
  },
  {
   "cell_type": "markdown",
   "id": "db8f8a28",
   "metadata": {
    "heading_collapsed": true
   },
   "source": [
    "## 1.3. Temporal Series Analysis"
   ]
  },
  {
   "cell_type": "code",
   "execution_count": 24,
   "id": "8bfdb333",
   "metadata": {
    "ExecuteTime": {
     "end_time": "2021-07-04T12:09:56.489762Z",
     "start_time": "2021-07-04T12:09:56.481604Z"
    },
    "hidden": true
   },
   "outputs": [
    {
     "name": "stdout",
     "output_type": "stream",
     "text": [
      "First registered date of purchase: 2021-03-01 00:01:07.843138\n",
      "Last registered date of purchase: 2022-02-28 23:59:58.040472\n"
     ]
    }
   ],
   "source": [
    "# time interval of data\n",
    "print('First registered date of purchase: {}'.format(df['date'].min()))\n",
    "print('Last registered date of purchase: {}'.format(df['date'].max()))"
   ]
  },
  {
   "cell_type": "code",
   "execution_count": 36,
   "id": "730997e5",
   "metadata": {
    "ExecuteTime": {
     "end_time": "2021-07-04T12:20:04.167572Z",
     "start_time": "2021-07-04T12:20:01.516887Z"
    },
    "hidden": true,
    "hide_input": false
   },
   "outputs": [
    {
     "data": {
      "image/png": "[encoded data removed]",
      "text/plain": [
       "<Figure size 1296x576 with 2 Axes>"
      ]
     },
     "metadata": {},
     "output_type": "display_data"
    }
   ],
   "source": [
    "# missing values for categ 1\n",
    "plt.subplot(2, 1, 1)\n",
    "sns.histplot(data = df, x = 'date', hue = 'categ', bins = 100);\n",
    "\n",
    "plt.subplot(2, 1, 2)\n",
    "sns.histplot(data = df, x = 'month', hue = 'categ');"
   ]
  },
  {
   "cell_type": "code",
   "execution_count": 33,
   "id": "48254a66",
   "metadata": {
    "ExecuteTime": {
     "end_time": "2021-07-04T12:13:53.157779Z",
     "start_time": "2021-07-04T12:13:53.110858Z"
    },
    "hidden": true
   },
   "outputs": [
    {
     "data": {
      "text/plain": [
       "array([ 1, 28, 30, 31, 29])"
      ]
     },
     "execution_count": 33,
     "metadata": {},
     "output_type": "execute_result"
    }
   ],
   "source": [
    "# Missing values in category '1' during October\n",
    "df[(df['month'] == 10) & (df['categ'] == '1')]['day'].unique()"
   ]
  },
  {
   "cell_type": "markdown",
   "id": "630a3bb3",
   "metadata": {
    "ExecuteTime": {
     "end_time": "2021-07-04T12:16:14.811157Z",
     "start_time": "2021-07-04T12:16:14.807341Z"
    },
    "hidden": true,
    "hide_input": false
   },
   "source": [
    "Lack of information regarding \"category 1\" products between **the 2nd and the 27th of October**."
   ]
  },
  {
   "cell_type": "markdown",
   "id": "32013730",
   "metadata": {},
   "source": [
    "## 1.4. Bivariate Analysis "
   ]
  },
  {
   "cell_type": "code",
   "execution_count": 37,
   "id": "d1fcb503",
   "metadata": {
    "ExecuteTime": {
     "end_time": "2021-07-04T12:20:15.898385Z",
     "start_time": "2021-07-04T12:20:15.871942Z"
    },
    "scrolled": true
   },
   "outputs": [
    {
     "data": {
      "text/html": [
       "<div>\n",
       "<style scoped>\n",
       "    .dataframe tbody tr th:only-of-type {\n",
       "        vertical-align: middle;\n",
       "    }\n",
       "\n",
       "    .dataframe tbody tr th {\n",
       "        vertical-align: top;\n",
       "    }\n",
       "\n",
       "    .dataframe thead th {\n",
       "        text-align: right;\n",
       "    }\n",
       "</style>\n",
       "<table border=\"1\" class=\"dataframe\">\n",
       "  <thead>\n",
       "    <tr style=\"text-align: right;\">\n",
       "      <th></th>\n",
       "      <th>id_prod</th>\n",
       "      <th>price</th>\n",
       "      <th>categ</th>\n",
       "      <th>date</th>\n",
       "      <th>client_id</th>\n",
       "      <th>sex</th>\n",
       "      <th>birth</th>\n",
       "      <th>age</th>\n",
       "      <th>year</th>\n",
       "      <th>month</th>\n",
       "      <th>day</th>\n",
       "      <th>hour</th>\n",
       "      <th>period_of_day</th>\n",
       "    </tr>\n",
       "  </thead>\n",
       "  <tbody>\n",
       "    <tr>\n",
       "      <th>0</th>\n",
       "      <td>0_1483</td>\n",
       "      <td>4.99</td>\n",
       "      <td>0</td>\n",
       "      <td>2021-04-10 18:37:28.723910</td>\n",
       "      <td>c_4450</td>\n",
       "      <td>f</td>\n",
       "      <td>1977</td>\n",
       "      <td>43</td>\n",
       "      <td>2021</td>\n",
       "      <td>4</td>\n",
       "      <td>10</td>\n",
       "      <td>18</td>\n",
       "      <td>night</td>\n",
       "    </tr>\n",
       "    <tr>\n",
       "      <th>1</th>\n",
       "      <td>2_226</td>\n",
       "      <td>65.75</td>\n",
       "      <td>2</td>\n",
       "      <td>2022-02-03 01:55:53.276402</td>\n",
       "      <td>c_277</td>\n",
       "      <td>f</td>\n",
       "      <td>2000</td>\n",
       "      <td>20</td>\n",
       "      <td>2022</td>\n",
       "      <td>2</td>\n",
       "      <td>3</td>\n",
       "      <td>1</td>\n",
       "      <td>morning_dawn</td>\n",
       "    </tr>\n",
       "    <tr>\n",
       "      <th>2</th>\n",
       "      <td>1_374</td>\n",
       "      <td>10.71</td>\n",
       "      <td>1</td>\n",
       "      <td>2021-09-23 15:13:46.938559</td>\n",
       "      <td>c_4270</td>\n",
       "      <td>f</td>\n",
       "      <td>1979</td>\n",
       "      <td>41</td>\n",
       "      <td>2021</td>\n",
       "      <td>9</td>\n",
       "      <td>23</td>\n",
       "      <td>15</td>\n",
       "      <td>afternoon</td>\n",
       "    </tr>\n",
       "    <tr>\n",
       "      <th>3</th>\n",
       "      <td>0_2186</td>\n",
       "      <td>4.20</td>\n",
       "      <td>0</td>\n",
       "      <td>2021-10-17 03:27:18.783634</td>\n",
       "      <td>c_4597</td>\n",
       "      <td>m</td>\n",
       "      <td>1963</td>\n",
       "      <td>57</td>\n",
       "      <td>2021</td>\n",
       "      <td>10</td>\n",
       "      <td>17</td>\n",
       "      <td>3</td>\n",
       "      <td>morning_dawn</td>\n",
       "    </tr>\n",
       "    <tr>\n",
       "      <th>4</th>\n",
       "      <td>0_1351</td>\n",
       "      <td>8.99</td>\n",
       "      <td>0</td>\n",
       "      <td>2021-07-17 20:34:25.800563</td>\n",
       "      <td>c_1242</td>\n",
       "      <td>f</td>\n",
       "      <td>1980</td>\n",
       "      <td>40</td>\n",
       "      <td>2021</td>\n",
       "      <td>7</td>\n",
       "      <td>17</td>\n",
       "      <td>20</td>\n",
       "      <td>night</td>\n",
       "    </tr>\n",
       "  </tbody>\n",
       "</table>\n",
       "</div>"
      ],
      "text/plain": [
       "  id_prod  price categ                       date client_id sex  birth  age  year  month  day  hour period_of_day\n",
       "0  0_1483   4.99     0 2021-04-10 18:37:28.723910    c_4450   f   1977   43  2021      4   10    18         night\n",
       "1   2_226  65.75     2 2022-02-03 01:55:53.276402     c_277   f   2000   20  2022      2    3     1  morning_dawn\n",
       "2   1_374  10.71     1 2021-09-23 15:13:46.938559    c_4270   f   1979   41  2021      9   23    15     afternoon\n",
       "3  0_2186   4.20     0 2021-10-17 03:27:18.783634    c_4597   m   1963   57  2021     10   17     3  morning_dawn\n",
       "4  0_1351   8.99     0 2021-07-17 20:34:25.800563    c_1242   f   1980   40  2021      7   17    20         night"
      ]
     },
     "execution_count": 37,
     "metadata": {},
     "output_type": "execute_result"
    }
   ],
   "source": [
    "df.head()"
   ]
  },
  {
   "cell_type": "markdown",
   "id": "86c84188",
   "metadata": {},
   "source": [
    "### 1.4.1. Total Sales"
   ]
  },
  {
   "cell_type": "markdown",
   "id": "5909d5e1",
   "metadata": {},
   "source": [
    "**Through months**"
   ]
  },
  {
   "cell_type": "markdown",
   "id": "c926d184",
   "metadata": {},
   "source": [
    "**Through days of month**"
   ]
  },
  {
   "cell_type": "markdown",
   "id": "af6290fe",
   "metadata": {},
   "source": [
    "**Through period of day**"
   ]
  },
  {
   "cell_type": "markdown",
   "id": "3a3355d9",
   "metadata": {},
   "source": [
    "**According to sex**"
   ]
  },
  {
   "cell_type": "markdown",
   "id": "04c77ebb",
   "metadata": {},
   "source": [
    "**According to age**"
   ]
  },
  {
   "cell_type": "markdown",
   "id": "c18ff176",
   "metadata": {},
   "source": [
    "### 1.4.2. Products"
   ]
  },
  {
   "cell_type": "markdown",
   "id": "b1197443",
   "metadata": {},
   "source": [
    "**Most sold products**"
   ]
  },
  {
   "cell_type": "markdown",
   "id": "158a6723",
   "metadata": {},
   "source": [
    "# 2. ANSWERING QUESTIONS"
   ]
  },
  {
   "cell_type": "markdown",
   "id": "47e2542d",
   "metadata": {},
   "source": [
    "## 2.1. Is there a correlation between the gender of the customers and the categories of products purchased?"
   ]
  },
  {
   "cell_type": "code",
   "execution_count": 38,
   "id": "f62713ed",
   "metadata": {
    "ExecuteTime": {
     "end_time": "2021-07-04T12:27:46.864536Z",
     "start_time": "2021-07-04T12:27:46.848041Z"
    }
   },
   "outputs": [
    {
     "data": {
      "text/html": [
       "<div>\n",
       "<style scoped>\n",
       "    .dataframe tbody tr th:only-of-type {\n",
       "        vertical-align: middle;\n",
       "    }\n",
       "\n",
       "    .dataframe tbody tr th {\n",
       "        vertical-align: top;\n",
       "    }\n",
       "\n",
       "    .dataframe thead th {\n",
       "        text-align: right;\n",
       "    }\n",
       "</style>\n",
       "<table border=\"1\" class=\"dataframe\">\n",
       "  <thead>\n",
       "    <tr style=\"text-align: right;\">\n",
       "      <th></th>\n",
       "      <th>id_prod</th>\n",
       "      <th>price</th>\n",
       "      <th>categ</th>\n",
       "      <th>date</th>\n",
       "      <th>client_id</th>\n",
       "      <th>sex</th>\n",
       "      <th>birth</th>\n",
       "      <th>age</th>\n",
       "      <th>year</th>\n",
       "      <th>month</th>\n",
       "      <th>day</th>\n",
       "      <th>hour</th>\n",
       "      <th>period_of_day</th>\n",
       "    </tr>\n",
       "  </thead>\n",
       "  <tbody>\n",
       "    <tr>\n",
       "      <th>0</th>\n",
       "      <td>0_1483</td>\n",
       "      <td>4.99</td>\n",
       "      <td>0</td>\n",
       "      <td>2021-04-10 18:37:28.723910</td>\n",
       "      <td>c_4450</td>\n",
       "      <td>f</td>\n",
       "      <td>1977</td>\n",
       "      <td>43</td>\n",
       "      <td>2021</td>\n",
       "      <td>4</td>\n",
       "      <td>10</td>\n",
       "      <td>18</td>\n",
       "      <td>night</td>\n",
       "    </tr>\n",
       "    <tr>\n",
       "      <th>1</th>\n",
       "      <td>2_226</td>\n",
       "      <td>65.75</td>\n",
       "      <td>2</td>\n",
       "      <td>2022-02-03 01:55:53.276402</td>\n",
       "      <td>c_277</td>\n",
       "      <td>f</td>\n",
       "      <td>2000</td>\n",
       "      <td>20</td>\n",
       "      <td>2022</td>\n",
       "      <td>2</td>\n",
       "      <td>3</td>\n",
       "      <td>1</td>\n",
       "      <td>morning_dawn</td>\n",
       "    </tr>\n",
       "    <tr>\n",
       "      <th>2</th>\n",
       "      <td>1_374</td>\n",
       "      <td>10.71</td>\n",
       "      <td>1</td>\n",
       "      <td>2021-09-23 15:13:46.938559</td>\n",
       "      <td>c_4270</td>\n",
       "      <td>f</td>\n",
       "      <td>1979</td>\n",
       "      <td>41</td>\n",
       "      <td>2021</td>\n",
       "      <td>9</td>\n",
       "      <td>23</td>\n",
       "      <td>15</td>\n",
       "      <td>afternoon</td>\n",
       "    </tr>\n",
       "    <tr>\n",
       "      <th>3</th>\n",
       "      <td>0_2186</td>\n",
       "      <td>4.20</td>\n",
       "      <td>0</td>\n",
       "      <td>2021-10-17 03:27:18.783634</td>\n",
       "      <td>c_4597</td>\n",
       "      <td>m</td>\n",
       "      <td>1963</td>\n",
       "      <td>57</td>\n",
       "      <td>2021</td>\n",
       "      <td>10</td>\n",
       "      <td>17</td>\n",
       "      <td>3</td>\n",
       "      <td>morning_dawn</td>\n",
       "    </tr>\n",
       "    <tr>\n",
       "      <th>4</th>\n",
       "      <td>0_1351</td>\n",
       "      <td>8.99</td>\n",
       "      <td>0</td>\n",
       "      <td>2021-07-17 20:34:25.800563</td>\n",
       "      <td>c_1242</td>\n",
       "      <td>f</td>\n",
       "      <td>1980</td>\n",
       "      <td>40</td>\n",
       "      <td>2021</td>\n",
       "      <td>7</td>\n",
       "      <td>17</td>\n",
       "      <td>20</td>\n",
       "      <td>night</td>\n",
       "    </tr>\n",
       "  </tbody>\n",
       "</table>\n",
       "</div>"
      ],
      "text/plain": [
       "  id_prod  price categ                       date client_id sex  birth  age  year  month  day  hour period_of_day\n",
       "0  0_1483   4.99     0 2021-04-10 18:37:28.723910    c_4450   f   1977   43  2021      4   10    18         night\n",
       "1   2_226  65.75     2 2022-02-03 01:55:53.276402     c_277   f   2000   20  2022      2    3     1  morning_dawn\n",
       "2   1_374  10.71     1 2021-09-23 15:13:46.938559    c_4270   f   1979   41  2021      9   23    15     afternoon\n",
       "3  0_2186   4.20     0 2021-10-17 03:27:18.783634    c_4597   m   1963   57  2021     10   17     3  morning_dawn\n",
       "4  0_1351   8.99     0 2021-07-17 20:34:25.800563    c_1242   f   1980   40  2021      7   17    20         night"
      ]
     },
     "execution_count": 38,
     "metadata": {},
     "output_type": "execute_result"
    }
   ],
   "source": [
    "df.head()"
   ]
  },
  {
   "cell_type": "code",
   "execution_count": 40,
   "id": "7baf5071",
   "metadata": {
    "ExecuteTime": {
     "end_time": "2021-07-04T12:29:32.369875Z",
     "start_time": "2021-07-04T12:29:31.410154Z"
    }
   },
   "outputs": [
    {
     "data": {
      "image/png": "[encoded data removed]",
      "text/plain": [
       "<Figure size 406.6x360 with 1 Axes>"
      ]
     },
     "metadata": {},
     "output_type": "display_data"
    }
   ],
   "source": [
    "sns.displot(data = df, x = 'sex', hue = 'categ');"
   ]
  },
  {
   "cell_type": "markdown",
   "id": "747c5924",
   "metadata": {},
   "source": [
    "**Chi²**"
   ]
  },
  {
   "cell_type": "code",
   "execution_count": null,
   "id": "9db9baf9",
   "metadata": {},
   "outputs": [],
   "source": [
    "# r² / eta² / xi_n"
   ]
  },
  {
   "cell_type": "markdown",
   "id": "fabb6fab",
   "metadata": {},
   "source": [
    "aaaa"
   ]
  },
  {
   "cell_type": "markdown",
   "id": "54f8c42e",
   "metadata": {
    "heading_collapsed": true
   },
   "source": [
    "## 2.2.  Is there a correlation between the age of clients and..."
   ]
  },
  {
   "cell_type": "markdown",
   "id": "66627d63",
   "metadata": {
    "hidden": true
   },
   "source": [
    "**2.2.1. The total amount of purchases?**"
   ]
  },
  {
   "cell_type": "markdown",
   "id": "6085a6ca",
   "metadata": {
    "hidden": true
   },
   "source": [
    "**2.2.2. The frequency of purchase (ie. Number of purchases per month for example)?**"
   ]
  },
  {
   "cell_type": "markdown",
   "id": "e435c8f6",
   "metadata": {
    "hidden": true
   },
   "source": [
    "**2.2.3. The size of the average basket (in number of items)?**"
   ]
  },
  {
   "cell_type": "markdown",
   "id": "dd31383a",
   "metadata": {
    "hidden": true
   },
   "source": [
    "**2.2.4. The categories of products purchased?**"
   ]
  }
 ],
 "metadata": {
  "kernelspec": {
   "display_name": "Python 3",
   "language": "python",
   "name": "python3"
  },
  "language_info": {
   "codemirror_mode": {
    "name": "ipython",
    "version": 3
   },
   "file_extension": ".py",
   "mimetype": "text/x-python",
   "name": "python",
   "nbconvert_exporter": "python",
   "pygments_lexer": "ipython3",
   "version": "3.7.0"
  }
 },
 "nbformat": 4,
 "nbformat_minor": 5
}
